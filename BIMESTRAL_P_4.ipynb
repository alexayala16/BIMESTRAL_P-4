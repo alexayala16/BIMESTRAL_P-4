{
  "nbformat": 4,
  "nbformat_minor": 0,
  "metadata": {
    "colab": {
      "provenance": [],
      "authorship_tag": "ABX9TyOiBnpWJKdJ1NW8pxZ3HnZb",
      "include_colab_link": true
    },
    "kernelspec": {
      "name": "python3",
      "display_name": "Python 3"
    },
    "language_info": {
      "name": "python"
    }
  },
  "cells": [
    {
      "cell_type": "markdown",
      "metadata": {
        "id": "view-in-github",
        "colab_type": "text"
      },
      "source": [
        "<a href=\"https://colab.research.google.com/github/alexayala16/BIMESTRAL_P-4/blob/main/BIMESTRAL_P_4.ipynb\" target=\"_parent\"><img src=\"https://colab.research.google.com/assets/colab-badge.svg\" alt=\"Open In Colab\"/></a>"
      ]
    },
    {
      "cell_type": "markdown",
      "source": [
        "# ***BIMESTRAL P-4***\n"
      ],
      "metadata": {
        "id": "LlQUtWzUu5Lf"
      }
    },
    {
      "cell_type": "markdown",
      "source": [
        "## **Graficas de Fuciones**:"
      ],
      "metadata": {
        "id": "Kf-vaIJnvIkU"
      }
    },
    {
      "cell_type": "code",
      "execution_count": 2,
      "metadata": {
        "id": "f2p9cPRDe9dd"
      },
      "outputs": [],
      "source": [
        "import numpy as np\n",
        "import matplotlib.pyplot as plt"
      ]
    },
    {
      "cell_type": "markdown",
      "source": [
        "### Funcion *LINEAL*:"
      ],
      "metadata": {
        "id": "uT29VzwuvgBO"
      }
    },
    {
      "cell_type": "code",
      "source": [
        "N  = 100\n",
        "\n",
        "def f(m,c,b): \n",
        "  return m*x + b\n",
        "\n",
        "m = int(input(\"Digite el de la pendiente: \"))\n",
        "b = int(input(\"Digite el valor del punto de corte con el eje y: \"))\n",
        "\n",
        "x = np.linspace(-10, 10, num = N)\n",
        "y = f(m, x, b)\n",
        "\n",
        "plt.plot(x,y, color = 'r')\n",
        "plt.xlabel('x')\n",
        "plt.ylabel('y')\n",
        "plt.title('Función lineal')\n",
        "plt.grid()\n",
        "plt.axhline(y = 0, color = 'b')\n",
        "plt.axvline(x = 0, color = 'b')\n",
        "plt.show()\n",
        "plt.savefig('funcion_lineal.png')"
      ],
      "metadata": {
        "colab": {
          "base_uri": "https://localhost:8080/",
          "height": 347
        },
        "id": "2Siuu-oQfdaT",
        "outputId": "43b5ee52-c685-4d79-c77d-77400b74bc87"
      },
      "execution_count": 3,
      "outputs": [
        {
          "name": "stdout",
          "output_type": "stream",
          "text": [
            "Digite el de la pendiente: 3\n",
            "Digite el valor del punto de corte con el eje y: 3\n"
          ]
        },
        {
          "output_type": "display_data",
          "data": {
            "text/plain": [
              "<Figure size 432x288 with 1 Axes>"
            ],
            "image/png": "[encoded data removed]"
          },
          "metadata": {
            "needs_background": "light"
          }
        },
        {
          "output_type": "display_data",
          "data": {
            "text/plain": [
              "<Figure size 432x288 with 0 Axes>"
            ]
          },
          "metadata": {}
        }
      ]
    },
    {
      "cell_type": "markdown",
      "source": [
        "### Funcion *CUADRATICA*:"
      ],
      "metadata": {
        "id": "ymMnHehA40iT"
      }
    },
    {
      "cell_type": "code",
      "source": [
        "N = 100\n",
        "\n",
        "def f(a, b, c, x):\n",
        "  return a*x**2 + b*x + c\n",
        "\n",
        "a = int(input(\"Digite el valor de a: \"))\n",
        "b = int(input(\"Digite el valor de b: \"))\n",
        "c = int(input(\"Digite el valor de c: \"))\n",
        "x = int(input(\"Digite el valor de x: \"))\n",
        "\n",
        "x = np.linspace(-10, 10, num = N)\n",
        "y = f(a, b, c, x)\n",
        "\n",
        "# grafica\n",
        "plt.plot(x, y, color = 'r')\n",
        "\n",
        "# etiquetas\n",
        "plt.xlabel('x')\n",
        "plt.ylabel('y')\n",
        "\n",
        "# titulo\n",
        "plt.title('Función CUADRATICA')\n",
        "\n",
        "# malla\n",
        "plt.grid(True)\n",
        "\n",
        "# lineas horizotales y verticales\n",
        "plt.axhline(y = 0, color = 'k')\n",
        "plt.axvline(x = 0, color = 'k')\n",
        "\n",
        "plt.show()\n",
        "\n",
        "plt.savefig('funcion_CUBICA.png')"
      ],
      "metadata": {
        "colab": {
          "base_uri": "https://localhost:8080/",
          "height": 382
        },
        "outputId": "49fd4452-f5bb-4684-abfa-7d2e5e72540b",
        "id": "c-OBme0sR3Al"
      },
      "execution_count": 32,
      "outputs": [
        {
          "name": "stdout",
          "output_type": "stream",
          "text": [
            "Digite el valor de a: 2\n",
            "Digite el valor de b: 3\n",
            "Digite el valor de c: 4\n",
            "Digite el valor de x: 1\n"
          ]
        },
        {
          "output_type": "display_data",
          "data": {
            "text/plain": [
              "<Figure size 432x288 with 1 Axes>"
            ],
            "image/png": "[encoded data removed]"
          },
          "metadata": {
            "needs_background": "light"
          }
        },
        {
          "output_type": "display_data",
          "data": {
            "text/plain": [
              "<Figure size 432x288 with 0 Axes>"
            ]
          },
          "metadata": {}
        }
      ]
    },
    {
      "cell_type": "markdown",
      "source": [
        "### Función *CUBICA*"
      ],
      "metadata": {
        "id": "owGHUueNo9u5"
      }
    },
    {
      "cell_type": "code",
      "source": [
        "N = 100\n",
        "\n",
        "def f(a, b, c, d, x):\n",
        "  return a*x**3 + b*x**2 + c*x + d\n",
        "\n",
        "a = int(input(\"Digite el valor de a: \"))\n",
        "b = int(input(\"Digite el valor de b: \"))\n",
        "c = int(input(\"Digite el valor de c: \"))\n",
        "d = int(input(\"Digite el valor de d: \"))\n",
        "x = int(input(\"Digite el valor de x: \"))\n",
        "\n",
        "x = np.linspace(-10, 10, num = N)\n",
        "y = f(a, b, c, d, x)\n",
        "\n",
        "# grafica\n",
        "plt.plot(x, y, color = 'r')\n",
        "\n",
        "# etiquetas\n",
        "plt.xlabel('x')\n",
        "plt.ylabel('y')\n",
        "\n",
        "# titulo\n",
        "plt.title('Función CUBICA')\n",
        "\n",
        "# malla\n",
        "plt.grid(True)\n",
        "\n",
        "# lineas horizotales y verticales\n",
        "plt.axhline(y = 0, color = 'k')\n",
        "plt.axvline(x = 0, color = 'k')\n",
        "\n",
        "plt.show()\n",
        "\n",
        "plt.savefig('funcion_CUBICA.png')"
      ],
      "metadata": {
        "colab": {
          "base_uri": "https://localhost:8080/",
          "height": 399
        },
        "outputId": "8667173b-51ff-47e4-b60b-b7ef98b88259",
        "id": "hrsZZWD9qMwG"
      },
      "execution_count": 33,
      "outputs": [
        {
          "name": "stdout",
          "output_type": "stream",
          "text": [
            "Digite el valor de a: 2\n",
            "Digite el valor de b: 3\n",
            "Digite el valor de c: 4\n",
            "Digite el valor de d: 5\n",
            "Digite el valor de x: 1\n"
          ]
        },
        {
          "output_type": "display_data",
          "data": {
            "text/plain": [
              "<Figure size 432x288 with 1 Axes>"
            ],
            "image/png": "[encoded data removed]"
          },
          "metadata": {
            "needs_background": "light"
          }
        },
        {
          "output_type": "display_data",
          "data": {
            "text/plain": [
              "<Figure size 432x288 with 0 Axes>"
            ]
          },
          "metadata": {}
        }
      ]
    },
    {
      "cell_type": "markdown",
      "source": [
        "### Función *LOGARÍTMICA*"
      ],
      "metadata": {
        "id": "ptDyRJ-Sr06L"
      }
    },
    {
      "cell_type": "code",
      "source": [],
      "metadata": {
        "id": "SEK0nEyjr2cm"
      },
      "execution_count": null,
      "outputs": []
    },
    {
      "cell_type": "code",
      "source": [
        "N = 100\n",
        "\n",
        "def f(x):\n",
        "  return np.log10(x)\n",
        "\n",
        "x = int(input(\"Digite el valor de x: \"))\n",
        "\n",
        "x = np.linspace(-10, 10, num = N)\n",
        "y = f(x)\n",
        "\n",
        "# grafica\n",
        "plt.plot(x, y, color = 'r')\n",
        "\n",
        "# etiquetas\n",
        "plt.xlabel('x')\n",
        "plt.ylabel('y')\n",
        "\n",
        "# titulo\n",
        "plt.title('Función LOGARÍTMICA')\n",
        "\n",
        "# malla\n",
        "plt.grid(True)\n",
        "\n",
        "# lineas horizotales y verticales\n",
        "plt.axhline(y = 0, color = 'k')\n",
        "plt.axvline(x = 0, color = 'k')\n",
        "\n",
        "plt.show()\n",
        "\n",
        "plt.savefig('funcion_logarítmica.png')"
      ],
      "metadata": {
        "colab": {
          "base_uri": "https://localhost:8080/",
          "height": 364
        },
        "outputId": "356cc4a5-bfd8-40b6-eb18-af8e7f4d5304",
        "id": "0qa4eebasy0y"
      },
      "execution_count": 35,
      "outputs": [
        {
          "name": "stdout",
          "output_type": "stream",
          "text": [
            "Digite el valor de x: 5\n"
          ]
        },
        {
          "output_type": "stream",
          "name": "stderr",
          "text": [
            "/usr/local/lib/python3.7/dist-packages/ipykernel_launcher.py:4: RuntimeWarning: invalid value encountered in log10\n",
            "  after removing the cwd from sys.path.\n"
          ]
        },
        {
          "output_type": "display_data",
          "data": {
            "text/plain": [
              "<Figure size 432x288 with 1 Axes>"
            ],
            "image/png": "[encoded data removed]"
          },
          "metadata": {
            "needs_background": "light"
          }
        },
        {
          "output_type": "display_data",
          "data": {
            "text/plain": [
              "<Figure size 432x288 with 0 Axes>"
            ]
          },
          "metadata": {}
        }
      ]
    }
  ]
}
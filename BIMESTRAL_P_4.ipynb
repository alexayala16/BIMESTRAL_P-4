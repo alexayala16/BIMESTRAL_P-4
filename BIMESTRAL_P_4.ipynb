{
  "nbformat": 4,
  "nbformat_minor": 0,
  "metadata": {
    "colab": {
      "provenance": [],
      "authorship_tag": "ABX9TyP+JMnyJpv8yyoskq2S4iQW",
      "include_colab_link": true
    },
    "kernelspec": {
      "name": "python3",
      "display_name": "Python 3"
    },
    "language_info": {
      "name": "python"
    }
  },
  "cells": [
    {
      "cell_type": "markdown",
      "metadata": {
        "id": "view-in-github",
        "colab_type": "text"
      },
      "source": [
        "<a href=\"https://colab.research.google.com/github/alexayala16/BIMESTRAL_P-4/blob/main/BIMESTRAL_P_4.ipynb\" target=\"_parent\"><img src=\"https://colab.research.google.com/assets/colab-badge.svg\" alt=\"Open In Colab\"/></a>"
      ]
    },
    {
      "cell_type": "markdown",
      "source": [
        "# ***BIMESTRAL P-4***\n"
      ],
      "metadata": {
        "id": "LlQUtWzUu5Lf"
      }
    },
    {
      "cell_type": "markdown",
      "source": [
        "## **Graficas de Fuciones**:"
      ],
      "metadata": {
        "id": "Kf-vaIJnvIkU"
      }
    },
    {
      "cell_type": "markdown",
      "source": [
        "### Funcion *LINEAL*:"
      ],
      "metadata": {
        "id": "uT29VzwuvgBO"
      }
    },
    {
      "cell_type": "code",
      "source": [
        "import matplotlib.pyplot, numpy\n",
        "N = 100\n",
        "\n",
        "def funcion_lineal(m,c,b):  \n",
        "  return m*x + b\n",
        "\n",
        "m = int(input(\"Digite el de la pendiente: \"))\n",
        "b = int(input(\"Digite el valor del punto de corte con el eje y: \"))\n",
        "\n",
        "x = numpy.linspace(-10, 10, num = N)\n",
        "y = funcion_lineal(m, x, b)\n",
        "\n",
        "# Processin\n",
        "\n",
        "matplotlib.plot(x, y, color = 'r')\n",
        "matplotlib.xlabel('x')\n",
        "matplotlib.ylabel('y')\n",
        "matplotlib.title('Función lineal')\n",
        "matplotlib.grid()\n",
        "matplotlib.axhline(y = 0, color = 'b')\n",
        "matplotlib.axvline(x = 0, color = 'b')\n",
        "matplotlib.show()\n",
        "matplotlib.savefig('funcion_lineal.png')"
      ],
      "metadata": {
        "colab": {
          "base_uri": "https://localhost:8080/",
          "height": 269
        },
        "id": "OmziRdnPwqYC",
        "outputId": "d2a7accd-0a2a-477e-8f62-2a2c9cbb65a4"
      },
      "execution_count": 26,
      "outputs": [
        {
          "name": "stdout",
          "output_type": "stream",
          "text": [
            "Digite el de la pendiente: 3\n",
            "Digite el valor del punto de corte con el eje y: 3\n"
          ]
        },
        {
          "output_type": "error",
          "ename": "AttributeError",
          "evalue": "ignored",
          "traceback": [
            "\u001b[0;31m---------------------------------------------------------------------------\u001b[0m",
            "\u001b[0;31mAttributeError\u001b[0m                            Traceback (most recent call last)",
            "\u001b[0;32m<ipython-input-26-fd8464c5971e>\u001b[0m in \u001b[0;36m<module>\u001b[0;34m\u001b[0m\n\u001b[1;32m     13\u001b[0m \u001b[0;31m# Processin\u001b[0m\u001b[0;34m\u001b[0m\u001b[0;34m\u001b[0m\u001b[0;34m\u001b[0m\u001b[0m\n\u001b[1;32m     14\u001b[0m \u001b[0;34m\u001b[0m\u001b[0m\n\u001b[0;32m---> 15\u001b[0;31m \u001b[0mmatplotlib\u001b[0m\u001b[0;34m.\u001b[0m\u001b[0mplot\u001b[0m\u001b[0;34m(\u001b[0m\u001b[0mx\u001b[0m\u001b[0;34m,\u001b[0m \u001b[0my\u001b[0m\u001b[0;34m,\u001b[0m \u001b[0mcolor\u001b[0m \u001b[0;34m=\u001b[0m \u001b[0;34m'r'\u001b[0m\u001b[0;34m)\u001b[0m\u001b[0;34m\u001b[0m\u001b[0;34m\u001b[0m\u001b[0m\n\u001b[0m\u001b[1;32m     16\u001b[0m \u001b[0mmatplotlib\u001b[0m\u001b[0;34m.\u001b[0m\u001b[0mxlabel\u001b[0m\u001b[0;34m(\u001b[0m\u001b[0;34m'x'\u001b[0m\u001b[0;34m)\u001b[0m\u001b[0;34m\u001b[0m\u001b[0;34m\u001b[0m\u001b[0m\n\u001b[1;32m     17\u001b[0m \u001b[0mmatplotlib\u001b[0m\u001b[0;34m.\u001b[0m\u001b[0mylabel\u001b[0m\u001b[0;34m(\u001b[0m\u001b[0;34m'y'\u001b[0m\u001b[0;34m)\u001b[0m\u001b[0;34m\u001b[0m\u001b[0;34m\u001b[0m\u001b[0m\n",
            "\u001b[0;31mAttributeError\u001b[0m: module 'matplotlib' has no attribute 'plot'"
          ]
        }
      ]
    },
    {
      "cell_type": "markdown",
      "source": [
        "### Funcion *CUADRATICA*:"
      ],
      "metadata": {
        "id": "ymMnHehA40iT"
      }
    }
  ]
}